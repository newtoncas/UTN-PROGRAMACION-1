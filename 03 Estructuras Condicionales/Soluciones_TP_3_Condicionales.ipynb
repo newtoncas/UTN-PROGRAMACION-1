{
  "nbformat": 4,
  "nbformat_minor": 0,
  "metadata": {
    "colab": {
      "provenance": []
    },
    "kernelspec": {
      "name": "python3",
      "display_name": "Python 3"
    },
    "language_info": {
      "name": "python"
    }
  },
  "cells": [
    {
      "cell_type": "markdown",
      "source": [
        "![image.png](data:image/png;base64,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)\n",
        "\n",
        "\n",
        "\n",
        "<h2>\n",
        "<font color=\"#ffcc01\">\n",
        "<b>\n",
        "PROGRAMACIÓN 1\n",
        "</b>\n",
        "</font>\n",
        "</h2>\n",
        "\n",
        "\n",
        "<h3>\n",
        "<font color=\"#ffcc01\">\n",
        "<b>\n",
        "Trabajo práctico 3: Estructuras Condicionales  \n",
        "</b>\n",
        "</font>\n",
        "</h3>\n"
      ],
      "metadata": {
        "id": "RmWDtgzqJAnb"
      }
    },
    {
      "cell_type": "markdown",
      "source": [
        "#### **Ejercicio 1**\n",
        "\n",
        "Escribir un programa que solicite la edad del usuario. Si el usuario es mayor de 18 años, deberá mostrar un mensaje en pantalla que diga “Es mayor de edad”.\n"
      ],
      "metadata": {
        "id": "T51serlKJheg"
      }
    },
    {
      "cell_type": "code",
      "source": [
        "# Pedimos al usuario que ingrese su edad\n",
        "edad = int(input(\"Por favor, ingrese su edad en años: \"))\n",
        "\n",
        "# Si la edad es mayor que 18, imprimimos \"Es mayor de edad\"\n",
        "if edad > 18:\n",
        "  print(\"Es mayor de edad\")"
      ],
      "metadata": {
        "colab": {
          "base_uri": "https://localhost:8080/"
        },
        "id": "63Dx8Z_eJAbp",
        "outputId": "a7e3d286-bf22-4d31-eb4b-844aa9104b98"
      },
      "execution_count": null,
      "outputs": [
        {
          "output_type": "stream",
          "name": "stdout",
          "text": [
            "Por favor, ingrese su edad: 20\n",
            "Es mayor de edad\n"
          ]
        }
      ]
    },
    {
      "cell_type": "markdown",
      "source": [
        "#### **Ejercicio 2**\n",
        "\n",
        "Escribir un programa que solicite su nota al usuario. Si la nota es mayor o igual a 6, deberá mostrar por pantalla un mensaje que diga “Aprobado”; en caso contrario deberá mostrar el mensaje “Desaprobado”."
      ],
      "metadata": {
        "id": "zkiyef1TJpxK"
      }
    },
    {
      "cell_type": "code",
      "execution_count": null,
      "metadata": {
        "colab": {
          "base_uri": "https://localhost:8080/"
        },
        "id": "O7PpNxXnI9Bj",
        "outputId": "0d15bdee-cf54-4e6b-e8bb-89b0a96e2167"
      },
      "outputs": [
        {
          "output_type": "stream",
          "name": "stdout",
          "text": [
            "Por favor, ingrese su nota: 6\n",
            "Aprobado\n"
          ]
        }
      ],
      "source": [
        "# Pedimos al usuario que ingrese su nota\n",
        "nota = float(input(\"Por favor, ingrese su nota: \"))\n",
        "\n",
        "# Si la nota es mayor o igual que 6, imprimimos \"Aprobado\"\n",
        "if nota >=6:\n",
        "  print(\"Aprobado\")\n",
        "# En caso contrario, imprimimos \"Desaprobado\"\n",
        "else:\n",
        "  print(\"Desaprobado\")"
      ]
    },
    {
      "cell_type": "markdown",
      "source": [
        "#### **Ejercicio 3**\n",
        "\n",
        "Escribir un programa que permita ingresar solo números pares. Si el usuario ingresa un número par, imprimir por en pantalla el mensaje \"Ha ingresado un número par\"; en caso contrario, imprimir por pantalla \"Por favor, ingrese un número par\". Nota: investigar el uso del operador de módulo (%) en Python para evaluar si un número es par o impar."
      ],
      "metadata": {
        "id": "94K4Udc0J17x"
      }
    },
    {
      "cell_type": "code",
      "source": [
        "# Pedimos al usuario que ingrese un número\n",
        "numero = int(input(\"Por favor, ingrese un número entero: \"))\n",
        "\n",
        "# Si se ingresa un número par, imprimimos \"Ha ingresado un número par\"\n",
        "if numero % 2 == 0:\n",
        "  print(\"Ha ingresado un número par\")\n",
        "# En caso contrario, imprimimos \"Por favor, ingresar un número par\"\n",
        "else:\n",
        "  print(\"Por favor, ingresar un número par\")"
      ],
      "metadata": {
        "colab": {
          "base_uri": "https://localhost:8080/"
        },
        "id": "KpqXyW5OJ7Q9",
        "outputId": "c7cd35b8-1c1d-4439-ada1-98a9e9cd23c7"
      },
      "execution_count": null,
      "outputs": [
        {
          "output_type": "stream",
          "name": "stdout",
          "text": [
            "Por favor, ingrese un número: 3\n",
            "Por favor, ingresar un número par\n"
          ]
        }
      ]
    },
    {
      "cell_type": "markdown",
      "source": [
        "#### **Ejercicio 4**\n",
        "\n",
        "Escribir un programa que solicite al usuario su edad e imprima por pantalla a cuál de las siguientes categorías pertenece:\n",
        "*   **Niño/a:** menor de 12 años.\n",
        "*   **Adolescente:** mayor o igual que 12 años y menor que 18 años.\n",
        "*   **Adulto/a joven:** mayor o igual que 18 años y menor que 30 años.\n",
        "*   **Adulto/a:** mayor o igual que 30 años.\n"
      ],
      "metadata": {
        "id": "FLEpYGFdKIws"
      }
    },
    {
      "cell_type": "code",
      "source": [
        "# Pedimos al usuario que ingrese su edad\n",
        "edad = int(input(\"Por favor, ingrese su edad en años: \"))\n",
        "\n",
        "# Si la edad es menor que 12, imprimimos \"Niño/a\"\n",
        "if edad < 12:\n",
        "  print(\"Niño/a\")\n",
        "# Si la edad es mayor o igual que 12 y menor que 18, imprimimos \"Adolescente\"\n",
        "elif 12 <= edad < 18:\n",
        "  print(\"Adolescente\")\n",
        "# Si la edad es mayor o igual que 18 y menor que 30, imprimimos \"Adulto/a joven\"\n",
        "elif 18 <= edad < 30:\n",
        "  print(\"Adulto/a joven\")\n",
        "# En cualquier otro caso, imprimimos \"Adulto/a\". Esto en este caso equivale a decir\n",
        "# elif edad >= 30 porque es el único caso que no está cubierto hasta el momento\n",
        "else:\n",
        "  print(\"Adulto/a\")"
      ],
      "metadata": {
        "colab": {
          "base_uri": "https://localhost:8080/"
        },
        "id": "R7Tq5OIjKMq2",
        "outputId": "1aaf883c-254f-4c32-d3f4-ca5d114cc625"
      },
      "execution_count": null,
      "outputs": [
        {
          "output_type": "stream",
          "name": "stdout",
          "text": [
            "Por favor, ingrese su edad: 50\n",
            "Adulto/a\n"
          ]
        }
      ]
    },
    {
      "cell_type": "markdown",
      "source": [
        "El código anterior tiene lo que conocemos como \"bug\" ya que si un usuario ingresa una edad negativa, el programa respodnerá que es un/a niño/a. Esto se puede solucionar agregando una condición para que si el usuario ingresa una edad negativa, se imprima por pantalla \"Por favor, ingrese un número positivo\""
      ],
      "metadata": {
        "id": "ROozc2oMZX0U"
      }
    },
    {
      "cell_type": "code",
      "source": [
        "# Pedimos al usuario que ingrese su edad\n",
        "edad = int(input(\"Por favor, ingrese su edad en años: \"))\n",
        "\n",
        "# Si la edad es menor que 0, imprimimos \"Por favor, ingrese un número positivo\"\n",
        "if edad < 0:\n",
        "  print(\"Por favor, ingrese un número positivo\")\n",
        "# Si la edad es menor que 12, imprimimos \"Niño/a\"\n",
        "elif edad < 12:\n",
        "  print(\"Niño/a\")\n",
        "# Si la edad es mayor o igual que 12 y menor que 18, imprimimos \"Adolescente\"\n",
        "elif 12 <= edad < 18:\n",
        "  print(\"Adolescente\")\n",
        "# Si la edad es mayor o igual que 18 y menor que 30, imprimimos \"Adulto/a joven\"\n",
        "elif 18 <= edad < 30:\n",
        "  print(\"Adulto/a joven\")\n",
        "# En cualquier otro caso, imprimimos \"Adulto/a\". Esto en este caso equivale a decir\n",
        "# elif edad >= 30 porque es el único caso que no está cubierto hasta el momento\n",
        "else:\n",
        "  print(\"Adulto/a\")"
      ],
      "metadata": {
        "id": "XQF2Cy7ca4Cy"
      },
      "execution_count": null,
      "outputs": []
    },
    {
      "cell_type": "markdown",
      "source": [
        "#### **Ejercicio 5**\n",
        "\n",
        "Escribir un programa que permita introducir contraseñas de entre 8 y 14 caracteres (incluyendo 8 y 14). Si el usuario ingresa una contraseña de longitud adecuada, imprimir por en pantalla el mensaje \"Ha ingresado una contraseña correcta\"; en caso contrario, imprimir por pantalla \"Por favor, ingrese una contraseña de entre 8 y 14 caracteres\". Nota: investigue el uso de la función len() en Python para evaluar la cantidad de elementos que tiene un iterable tal como una lista o un string."
      ],
      "metadata": {
        "id": "j79FEir_K2Vm"
      }
    },
    {
      "cell_type": "code",
      "source": [
        "# Pedimos al usuario que ingrese su contraseña. Almacenamos el resultado en la variable contrasena\n",
        "# dado que no podemos usar caracteres especiales como la ñ para nombrar variables de Python\n",
        "contrasena = input(\"Por favor, ingrese su contraseña: \")\n",
        "\n",
        "if 8 <= len(contrasena) <= 14:\n",
        "  print(\"Ha ingresado una contraseña correcta\")\n",
        "else:\n",
        "  print(\"Por favor, ingrese una contraseña de entre 8 y 14 caracteres\")"
      ],
      "metadata": {
        "colab": {
          "base_uri": "https://localhost:8080/"
        },
        "id": "9EFLgKkTK6AP",
        "outputId": "160fd055-1740-409e-f9df-924a327cab8e"
      },
      "execution_count": null,
      "outputs": [
        {
          "output_type": "stream",
          "name": "stdout",
          "text": [
            "Por favor, ingrese su contraseña: mi_contraseña\n",
            "Ha ingresado una contraseña correcta\n"
          ]
        }
      ]
    },
    {
      "cell_type": "markdown",
      "source": [
        "#### **Ejercicio 6**\n",
        "\n",
        "El paquete statistics de python contiene funciones que permiten tomar una lista de números y calcular la moda, la mediana y la media de dichos números. Un ejemplo de su uso es el siguiente:\n",
        "\n",
        "\n",
        "```\n",
        "from statistics import mode, median, mean\n",
        "mi_lista = [1,2,5,5,3]\n",
        "mean(mi_lista)\n",
        "```\n",
        "\n",
        "En la documentación oficial se puede encontrar más información sobre este paquete: https://docs.python.org/es/3.8/library/statistics.html.\n",
        "\n",
        "La moda (mode), la mediana (median) y la media (mean) son parámetros estadísticos que se pueden utilizar para predecir la forma de una distribución normal a partir del siguiente criterio:\n",
        "*  **Sesgo positivo o a la derecha:** cuando la media es mayor que la mediana y, a su vez, la mediana es mayor que la moda.\n",
        "*  **Sesgo negativo o a la izquierda:** cuando la media es menor que la mediana y, a su vez, la mediana es menor que la moda.\n",
        "*  **Sin sesgo:** cuando la media, la mediana y la moda son iguales.\n",
        "\n",
        "Teniendo en cuenta lo antes mencionado, escribir un programa que tome la lista numeros_aleatorios, calcule su moda, su mediana y su media y las compare para determinar si hay sesgo positivo, negativo o no hay sesgo. Imprimir el resultado por pantalla.\n",
        "\n",
        "Definir la lista numeros_aleatorios de la siguiente forma:\n",
        "\n",
        "\n",
        "\n",
        "```\n",
        "import random\n",
        "numeros_aleatorios = [random.randint(1, 100) for i in range(50)]\n",
        "```\n",
        "\n",
        "Nota: el bloque de código anterior crea una lista con 50 números entre 0 y 100 elegidos de forma aleatoria.\n",
        "\n"
      ],
      "metadata": {
        "id": "buIjj2i4Lf2U"
      }
    },
    {
      "cell_type": "code",
      "source": [
        "# Importamos todas los paquetes y funciones que necesitamos utilizar\n",
        "import random\n",
        "from statistics import mode, median, mean\n",
        "\n",
        "# Generamos una lista de 50 números de forma aleatoria\n",
        "numeros_aleatorios = [random.randint(1, 100) for i in range(50)]\n",
        "\n",
        "# Calculamos la moda, la mediana y la media de la lista numeros_aleatorios\n",
        "moda = mode(numeros_aleatorios)\n",
        "mediana = median(numeros_aleatorios)\n",
        "media = mean(numeros_aleatorios)\n",
        "\n",
        "# Si la media es mayor que la mediana y la mediana es mayor que la moda, imprimir \"Sesgo positivo o a la derecha\"\n",
        "if media > mediana > moda:\n",
        "  print(\"Sesgo positivo o a la derecha\")\n",
        "# Si la media es menor que la mediana y la mediana es menor que la moda, imprimir \"Sesgo negativo o a la izquierda\"\n",
        "elif media < mediana < moda:\n",
        "  print(\"Sesgo negativo o a la izquierda\")\n",
        "# Si la media, la mediana y la moda son iguales, imprimir \"Sin sesgo\"\n",
        "elif media == mediana == moda:\n",
        "  print(\"Sin sesgo\")\n",
        "# Si no se cumple ninguna de las condiciones anteriores, imprimir \"No se puede determinar si esta distribución tiene sesgo o no\"\n",
        "else:\n",
        "  print(\"No se puede determinar si esta distribución tiene sesgo o no\")"
      ],
      "metadata": {
        "colab": {
          "base_uri": "https://localhost:8080/"
        },
        "id": "yIfhgxneenB_",
        "outputId": "85f9ecee-be60-473b-9a67-39f935a5fc04"
      },
      "execution_count": null,
      "outputs": [
        {
          "output_type": "stream",
          "name": "stdout",
          "text": [
            "Sesgo negativo o a la izquierda\n"
          ]
        }
      ]
    },
    {
      "cell_type": "markdown",
      "source": [
        "#### **Ejercicio 7**\n",
        "\n",
        "Escribir un programa que solicite una frase o palabra al usuario. Si el string ingresado termina con vocal, añadir un signo de exclamación al final e imprimir el string resultante por pantalla; en caso contrario, dejar el string tal cual lo ingresó el usuario e imprimirlo por pantalla."
      ],
      "metadata": {
        "id": "pTTua8NxMSLX"
      }
    },
    {
      "cell_type": "code",
      "source": [
        "# Pedimos al usuario que ingrese una frase o palabra\n",
        "frase = input(\"Por favor, ingrese una frase o palabra: \")\n",
        "\n",
        "# Para acceder a la última letra de un string podemos usar el índice -1\n",
        "# Si la última letra de la frase (frase[-1]) es una vocal, agregar un signo\n",
        "# de exclamación e imprimirla\n",
        "if frase[-1] in (\"AEIOUaeiou\"):\n",
        "  print(f\"{frase}!\")\n",
        "# Sino, imprimir la frase tal cual fue ingresada\n",
        "else:\n",
        "  print(frase)"
      ],
      "metadata": {
        "colab": {
          "base_uri": "https://localhost:8080/"
        },
        "id": "AMUUUIGwM9h3",
        "outputId": "2d28264a-f8ba-4119-e7b3-c9a1dd27f612"
      },
      "execution_count": null,
      "outputs": [
        {
          "output_type": "stream",
          "name": "stdout",
          "text": [
            "Por favor, ingrese una frase o palabra: HOLA\n",
            "HOLA!\n"
          ]
        }
      ]
    },
    {
      "cell_type": "markdown",
      "source": [
        "#### **Ejercicio 8**\n",
        "\n",
        "Escribir un programa que solicite al usuario que ingrese su nombre y el número 1, 2 o 3 dependiendo de la opción que desee:\n",
        "1. Si quiere su nombre en mayúsculas. Por ejemplo: PEDRO.\n",
        "2. Si quiere su nombre en minúsculas. Por ejemplo: pedro.\n",
        "3. Si quiere su nombre con la primera letra mayúscula. Por ejemplo: Pedro.\n",
        "\n",
        "El programa debe transformar el nombre ingresado de acuerdo a la opción seleccionada por el usuario e imprimir el resultado por pantalla. Nota: investigue uso de las funciones upper(), lower() y title() de Python para convertir entre mayúsculas y minúsculas.\n"
      ],
      "metadata": {
        "id": "1RRd0JHNOJNS"
      }
    },
    {
      "cell_type": "code",
      "source": [
        "# Pedimos al usuario que ingrese su nombre\n",
        "nombre = input(\"Por favor, ingrese su nombre: \")\n",
        "\n",
        "# Imprimimos por pantalla las opciones posibles y pedimos al usuario que ingrese la opción que desea\n",
        "print(\"\"\"\n",
        "En este programa puede realizar cualquiera de las siguientes operaciones:\n",
        "1. Si quiere su nombre en mayúsculas.\n",
        "2. Si quiere su nombre en minúsculas.\n",
        "3. Si quiere su nombre con la primera letra mayúscula.\n",
        "\"\"\")\n",
        "opcion = int(input(\"Ingrese el número de operación que desea realizar: \"))\n",
        "\n",
        "\n",
        "# Si el usuario eligió la opción 1, imprimimos su nombre en mayúsculas\n",
        "if opcion == 1:\n",
        "  nombre_mayuscula = nombre.upper()\n",
        "  print(nombre_mayuscula)\n",
        "# Si el usuario eligió la opción 2, imprimimos su nombre en minúsculas\n",
        "elif opcion == 2:\n",
        "  nombre_minuscula = nombre.lower()\n",
        "  print(nombre_minuscula)\n",
        "# Si el usuario eligió la opción 3, imprimimos su nombre con la primera letra en mayúscula\n",
        "elif opcion == 3:\n",
        "  nombre_title = nombre.title()\n",
        "  print(nombre_title)\n",
        "# Si el usuario eligió otro número de opción, imprimimos \"Por favor, ingrese únicamente 1, 2 o 3\"\n",
        "else:\n",
        "  print(\"Por favor, ingrese únicamente 1, 2 o 3\")"
      ],
      "metadata": {
        "colab": {
          "base_uri": "https://localhost:8080/"
        },
        "id": "copA0vR5OURn",
        "outputId": "1e215de7-4600-49eb-b8f0-f485235e145e"
      },
      "execution_count": null,
      "outputs": [
        {
          "output_type": "stream",
          "name": "stdout",
          "text": [
            "Por favor, ingrese su nombre: julieta\n",
            "\n",
            "En este programa puede realizar cualquiera de las siguientes operaciones:\n",
            "1. Si quiere su nombre en mayúsculas.\n",
            "2. Si quiere su nombre en minúsculas. \n",
            "3. Si quiere su nombre con la primera letra mayúscula. \n",
            "\n",
            "Ingrese el número de operación que desea realizar: 4\n",
            "Por favor, ingrese únicamente 1, 2 o 3\n"
          ]
        }
      ]
    },
    {
      "cell_type": "markdown",
      "source": [
        "#### **Ejercicio 9**\n",
        "\n",
        "Escribir un programa que pida al usuario la magnitud de un terremoto, clasifique la magnitud en una de las siguientes categorías según la escala de Richter e imprima el resultado por pantalla:\n",
        "*  **Menor que 3:** \"Muy leve\" (imperceptible).\n",
        "*  **Mayor o igual que 3  y menor que 4:** \"Leve\" (ligeramente perceptible).\n",
        "*  **Mayor o igual que 4  y menor que 5:** \"Moderado\" (sentido por personas, pero generalmente no causa daños).\n",
        "*  **Mayor o igual que 5  y menor que 6:** \"Fuerte\" (puede causar daños en estructuras débiles).\n",
        "*  **Mayor o igual que 6  y menor que 7:** \"Muy Fuerte\" (puede causar daños significativos).\n",
        "*  **Mayor o igual que 7:** \"Extremo\" (puede causar graves daños a gran escala)."
      ],
      "metadata": {
        "id": "ADDXzTl2OzBj"
      }
    },
    {
      "cell_type": "code",
      "source": [
        "# Pedimos al usuario que ingrese la magnitud del terremoto\n",
        "magnitud_terremoto = float(input(\"Por favor, ingrese la magnitud del terremoto según la escala de Ritcher: \"))\n",
        "\n",
        "# Si la magnitud del terremoto es menor que 3, imprimimos \"Muy leve\"\n",
        "if magnitud_terremoto < 3:\n",
        "  print(\"Muy leve\")\n",
        "# Si la magnitud del terremoto es mayor o igual que 3 y menor que 4, imprimimos \"Leve\"\n",
        "elif 3 <= magnitud_terremoto < 4:\n",
        "  print(\"Leve\")\n",
        "# Si la magnitud del terremoto es mayor o igual que 4 y menor que 5, imprimimos \"Moderado\"\n",
        "elif 4 <= magnitud_terremoto < 5:\n",
        "  print(\"Moderado\")\n",
        "# Si la magnitud del terremoto es mayor o igual que 5 y menor que 6, imprimimos \"Fuerte\"\n",
        "elif 5 <= magnitud_terremoto < 6:\n",
        "  print(\"Fuerte\")\n",
        "# Si la magnitud del terremoto es mayor o igual que 6 y menor que 7, imprimimos \"Muy fuerte\"\n",
        "elif 6 <= magnitud_terremoto < 7:\n",
        "  print(\"Muy fuerte\")\n",
        "# En cualquier otro caso, imprimimos \"Extremo\". Esto en este caso equivale a decir\n",
        "# elif magnitud_terremoto >= 7 porque es el único caso que no está cubierto hasta el momento\n",
        "else:\n",
        "  print(\"Extremo\")"
      ],
      "metadata": {
        "colab": {
          "base_uri": "https://localhost:8080/"
        },
        "id": "Mk0W1wB4Yv83",
        "outputId": "97534387-246b-45d6-d017-a5d6a80f7927"
      },
      "execution_count": null,
      "outputs": [
        {
          "output_type": "stream",
          "name": "stdout",
          "text": [
            "Por favor, ingrese la magnitud del terremoto según la escala de Ritcher: 7.8\n",
            "Extremo\n"
          ]
        }
      ]
    },
    {
      "cell_type": "markdown",
      "source": [
        "#### **Ejercicio 10**\n",
        "\n",
        "Utilizando la información aportada en la siguiente tabla sobre las estaciones del año\n",
        "\n",
        "![image.png](data:image/png;base64,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)\n",
        "\n",
        "Escribir un programa que pregunte al usuario en cuál hemisferio se encuentra (N/S), qué mes del año es y qué día es. El programa deberá utilizar esa información para imprimir por pantalla si el usuario se encuentra en otoño, invierno, primavera o verano."
      ],
      "metadata": {
        "id": "dUEub-1cZWoT"
      }
    },
    {
      "cell_type": "code",
      "source": [
        "# Pedimos al usuario que ingrese el hemisferio\n",
        "hemisferio = input(\"Por favor, ingrese el hemisferio (N/S): \")\n",
        "# Estandarizamos la respuesta del usuario convirtiéndola en minúscula\n",
        "hemisferio = hemisferio.lower()\n",
        "\n",
        "# Pedimos al usuario que ingrese el mes del año\n",
        "mes = int(input(\"Por favor, ingrese el mes del año en números: \"))\n",
        "\n",
        "# Pedimos al usuario que ingrese el día del mes\n",
        "dia = int(input(\"Por favor, ingrese el día del mes en números: \"))\n",
        "\n",
        "\n",
        "# Hacemos un condicional anidado, primero colocamos todo lo relativo al hemisferio sur\n",
        "if hemisferio == \"s\":\n",
        "  # Si es después del 21/12, en cualquier momento de enero o febrero, o antes del 20/3 imprimimos \"Verano\"\n",
        "  if (mes == 12 and dia >= 21) or (mes in (1,2)) or (mes == 3 and dia <= 20):\n",
        "    print(\"Verano\")\n",
        "  # Si es después del 21/3, en cualquier momento de abril o mayo, o antes del 20/6 imprimimos \"Otoño\"\n",
        "  elif (mes == 3 and dia >= 21) or (mes in (4,5)) or (mes == 6 and dia <= 20):\n",
        "    print(\"Otoño\")\n",
        "  # Si es después del 21/6, en cualquier momento de julio o agosto, o antes del 20/9 imprimimos \"Invierno\"\n",
        "  elif (mes == 6 and dia >= 21) or (mes in (7,8)) or (mes == 9 and dia <= 20):\n",
        "    print(\"Invierno\")\n",
        "  # Si es después del 21/9, en cualquier momento de octubre o noviembre, o antes del 20/12 imprimimos \"Primavera\"\n",
        "  elif (mes == 9 and dia >= 21) or (mes in (10,11)) or (mes == 12 and dia <= 20):\n",
        "    print(\"Primavera\")\n",
        "# Luego colocamos lo relativo al hemisferio norte\n",
        "elif hemisferio == \"n\":\n",
        "  # Si es después del 21/12, en cualquier momento de enero o febrero, o antes del 20/3 imprimimos \"Invierno\"\n",
        "  if (mes == 12 and dia >= 21) or (mes in (1,2)) or (mes == 3 and dia <= 20):\n",
        "    print(\"Invierno\")\n",
        "  # Si es después del 21/3, en cualquier momento de abril o mayo, o antes del 20/6 imprimimos \"Primavera\"\n",
        "  elif (mes == 3 and dia >= 21) or (mes in (4,5)) or (mes == 6 and dia <= 20):\n",
        "    print(\"Primavera\")\n",
        "  # Si es después del 21/6, en cualquier momento de julio o agosto, o antes del 20/9 imprimimos \"Verano\"\n",
        "  elif (mes == 6 and dia >= 21) or (mes in (7,8)) or (mes == 9 and dia <= 20):\n",
        "    print(\"Verano\")\n",
        "  # Si es después del 21/9, en cualquier momento de octubre o noviembre, o antes del 20/12 imprimimos \"Otoño\"\n",
        "  elif (mes == 9 and dia >= 21) or (mes in (10,11)) or (mes == 12 and dia <= 20):\n",
        "    print(\"Otoño\")"
      ],
      "metadata": {
        "colab": {
          "base_uri": "https://localhost:8080/"
        },
        "id": "c_NTpkITZGTd",
        "outputId": "c52b7920-be51-4d0e-b078-7b4e7636699b"
      },
      "execution_count": null,
      "outputs": [
        {
          "output_type": "stream",
          "name": "stdout",
          "text": [
            "Por favor, ingrese el hemisferio (N/S): n\n",
            "Por favor, ingrese el mes del año en números: 8\n",
            "Por favor, ingrese el día del mes en números: 27\n",
            "Verano\n"
          ]
        }
      ]
    },
    {
      "cell_type": "markdown",
      "source": [
        "El condicional anterior se podría haber expresado anidándolo de otro modo y llegando a exactamente el mismo resultado:"
      ],
      "metadata": {
        "id": "r9lCgN8T_xSr"
      }
    },
    {
      "cell_type": "code",
      "source": [
        "# Pedimos al usuario que ingrese el hemisferio\n",
        "hemisferio = input(\"Por favor, ingrese el hemisferio (N/S): \")\n",
        "# Estandarizamos la respuesta del usuario convirtiéndola en minúscula\n",
        "hemisferio = hemisferio.lower()\n",
        "\n",
        "# Pedimos al usuario que ingrese el mes del año\n",
        "mes = int(input(\"Por favor, ingrese el mes del año en números: \"))\n",
        "\n",
        "# Pedimos al usuario que ingrese el día del mes\n",
        "dia = int(input(\"Por favor, ingrese el día del mes en números: \"))\n",
        "\n",
        "\n",
        "# Hacemos un condicional anidado, primero colocamos todo lo relativo al periodo 21/12 - 20/3\n",
        "if (mes == 12 and dia >= 21) or (mes in (1,2)) or (mes == 3 and dia <= 20):\n",
        "  # Si es en el hemisferio sur imprimimos \"Verano\"\n",
        "  if hemisferio == \"s\":\n",
        "    print(\"Verano\")\n",
        "  # Si es en el hemisferio norte imprimimos \"Invierno\"\n",
        "  elif hemisferio == \"n\":\n",
        "    print(\"Verano\")\n",
        "# Luego colocamos todo lo relativo al periodo 21/3 - 20/6\n",
        "elif (mes == 3 and dia >= 21) or (mes in (4,5)) or (mes == 6 and dia <= 20):\n",
        "  # Si es en el hemisferio sur imprimimos \"Otoño\"\n",
        "  if hemisferio == \"s\":\n",
        "    print(\"Otoño\")\n",
        "  # Si es en el hemisferio norte imprimimos \"Primavera\"\n",
        "  elif hemisferio == \"n\":\n",
        "    print(\"Primavera\")\n",
        "# Luego colocamos todo lo relativo al periodo 21/6 - 20/9\n",
        "elif (mes == 6 and dia >= 21) or (mes in (7,8)) or (mes == 9 and dia <= 20):\n",
        "  # Si es en el hemisferio sur imprimimos \"Invierno\"\n",
        "  if hemisferio == \"s\":\n",
        "    print(\"Invierno\")\n",
        "  # Si es en el hemisferio norte imprimimos \"Verano\"\n",
        "  elif hemisferio == \"n\":\n",
        "    print(\"Verano\")\n",
        "# Finalmente podemos colocar un else, que abarcaría el periodo 20/9 - 21/12\n",
        "else:\n",
        "  # Si es en el hemisferio sur imprimimos \"Primavera\"\n",
        "  if hemisferio == \"s\":\n",
        "    print(\"Primavera\")\n",
        "  # Si es en el hemisferio norte imprimimos \"Otoño\"\n",
        "  elif hemisferio == \"n\":\n",
        "    print(\"Otoño\")"
      ],
      "metadata": {
        "colab": {
          "base_uri": "https://localhost:8080/"
        },
        "id": "dOG20Zn9_5a2",
        "outputId": "2efdea02-57f8-44b9-a63e-c34f75f188b2"
      },
      "execution_count": null,
      "outputs": [
        {
          "output_type": "stream",
          "name": "stdout",
          "text": [
            "Por favor, ingrese el hemisferio (N/S): s\n",
            "Por favor, ingrese el mes del año en números: 3\n",
            "Por favor, ingrese el día del mes en números: 12\n",
            "Verano\n"
          ]
        }
      ]
    }
  ]
}