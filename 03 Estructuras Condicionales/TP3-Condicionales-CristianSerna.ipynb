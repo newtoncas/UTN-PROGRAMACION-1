{
 "cells": [
  {
   "cell_type": "code",
   "execution_count": 3,
   "id": "5d59c632",
   "metadata": {},
   "outputs": [
    {
     "name": "stdout",
     "output_type": "stream",
     "text": [
      "Eres mayor de edad\n"
     ]
    }
   ],
   "source": [
    "#1) Escribir un programa que solicite la edad del usuario. Si el usuario es mayor de 18 años, deberá mostrar un mensaje en pantalla que diga “Es mayor de edad”.\n",
    "\n",
    "#Se crea la variable mayor de edad\n",
    "MAYOR_EDAD = 18\n",
    "\n",
    "# Solicitar al usuario la edad\n",
    "edad = int(input(\"Cual es tu edad?: \"))\n",
    "\n",
    "if edad > MAYOR_EDAD:\n",
    "    print(\"Eres mayor de edad\")\n",
    "else:\n",
    "    print(\"No eres mayor de edad\")"
   ]
  },
  {
   "cell_type": "code",
   "execution_count": 5,
   "id": "a4a48d3d",
   "metadata": {},
   "outputs": [
    {
     "name": "stdout",
     "output_type": "stream",
     "text": [
      "Estas desaprobado\n"
     ]
    }
   ],
   "source": [
    "#2) Escribir un programa que solicite su nota al usuario. Si la nota es mayor o igual a 6, deberá mostrar por pantalla un mensaje que diga “Aprobado”; en caso contrario deberá mostrar el mensaje “Desaprobado”.\n",
    "\n",
    "# Se crea la variable Aprobado\n",
    "APROBADO = 6\n",
    "\n",
    "# Solicitar al usuario la nota\n",
    "nota = float(input(\"Escriba su nota: \"))\n",
    "\n",
    "if nota >= APROBADO:\n",
    "    print(\"Felicitaciones, estas aprobado!\")\n",
    "else:\n",
    "    print(\"Estas desaprobado\")"
   ]
  },
  {
   "cell_type": "code",
   "execution_count": 7,
   "id": "8b5530f5",
   "metadata": {},
   "outputs": [
    {
     "name": "stdout",
     "output_type": "stream",
     "text": [
      "Ha ingresado un numero par\n"
     ]
    }
   ],
   "source": [
    "#3) Escribir un programa que permita ingresar solo números pares.\n",
    "\n",
    "# Solicitar al usuario un numero\n",
    "num = int(input(\"Ingrese un numero par: \"))\n",
    "\n",
    "if num % 2 == 0:\n",
    "    print(\"Ha ingresado un numero par\")\n",
    "else:\n",
    "    print(\"Por favor ingrese un número par\")"
   ]
  },
  {
   "cell_type": "code",
   "execution_count": null,
   "id": "2af970d6",
   "metadata": {},
   "outputs": [],
   "source": [
    "#4) Escribir un programa que solicite al usuario su edad e imprima por pantalla a cuál categorías pertenece\n",
    "\n",
    "# Solicitar al usuario su edad\n",
    "edad = int(input(\"Ingrese su edad: \"))\n",
    "\n",
    "if edad < 12:\n",
    "    print(\"Eres niño/a\")\n",
    "    \n",
    "elif edad >= 12 and edad < 18:\n",
    "    print(\"Eres adolescente\")\n",
    "    \n",
    "elif edad >= 18 and edad < 30:\n",
    "    print(\"Eres adulto/a joven\")\n",
    "    \n",
    "else:\n",
    "    print(\"Eres adulto\")"
   ]
  },
  {
   "cell_type": "code",
   "execution_count": 9,
   "id": "9c90af04",
   "metadata": {},
   "outputs": [
    {
     "name": "stdout",
     "output_type": "stream",
     "text": [
      "Ha ingresado una contraseña correcta!\n"
     ]
    }
   ],
   "source": [
    "#5) Escribir un programa que permita introducir contraseñas de entre 8 y 14 caracteres\n",
    "\n",
    "# Solicitar al usuario una contraseña\n",
    "passw = input(\"Ingrese una contraseña de entre 8 y 14 caracteres: \")\n",
    "\n",
    "if len(passw) >= 8 and len(passw) <= 14:\n",
    "    print(\"Ha ingresado una contraseña correcta!\")\n",
    "else:\n",
    "    print(\"Por favor ingrese una contraseña de entre 8 y 14 caracteres\")"
   ]
  },
  {
   "cell_type": "code",
   "execution_count": 19,
   "id": "5b9828d4",
   "metadata": {},
   "outputs": [
    {
     "name": "stdout",
     "output_type": "stream",
     "text": [
      "Hay sesgo postivo o a la derecha\n"
     ]
    }
   ],
   "source": [
    "#6) escribir un programa que tome la lista numeros_aleatorios, calcule su moda, su mediana y su media y las compare\n",
    "\n",
    "# Importar las funciones\n",
    "from statistics import mode, median, mean\n",
    "import random\n",
    "\n",
    "# Crear numero aleatorios del 1 al 100\n",
    "numeros_aleatorios = [random.randint(1, 100) for i in range(50)]\n",
    "\n",
    "# Calcular la moda, media y mediana de los numero aleatorios\n",
    "moda = mode(numeros_aleatorios)\n",
    "mediana = median(numeros_aleatorios)\n",
    "media = mean(numeros_aleatorios)\n",
    "\n",
    "if media > mediana and mediana > moda:\n",
    "    print(\"Hay sesgo postivo o a la derecha\")\n",
    "    \n",
    "elif media < mediana and mediana < moda:\n",
    "    print(\"Hay sesgo negativo o a la izquierda\")\n",
    "    \n",
    "elif media == mediana == moda:\n",
    "    print(\"No hay sesgo\")\n",
    "    \n",
    "else:\n",
    "    print(\"No se pudo determinar el sesgo\")"
   ]
  },
  {
   "cell_type": "code",
   "execution_count": 21,
   "id": "057641f9",
   "metadata": {},
   "outputs": [
    {
     "name": "stdout",
     "output_type": "stream",
     "text": [
      "asda!\n"
     ]
    }
   ],
   "source": [
    "#7) Escribir un programa que solicite una frase o palabra al usuario. Si el string ingresado termina con vocal, añadir un signo de exclamación al final e imprimir el string resultante por pantalla; en caso contrario, dejar el string tal cual lo ingresó\n",
    "\n",
    "# Solicitar al usuario una palabra o frase\n",
    "cadena = (input(\"Ingrese una palabra o una frase: \"))\n",
    "\n",
    "# Seleccionar la ultima letra de la frase o palabra\n",
    "ultima_letra = cadena[-1]\n",
    "\n",
    "# Se crea la variable con las vocales en mayusculas y minusculas\n",
    "VOCAL = [\"A\",\"a\",\"E\",\"e\",\"I\",\"i\",\"O\",\"o\",\"U\",\"u\"]\n",
    "\n",
    "if ultima_letra in VOCAL:\n",
    "    print(f\"{cadena}!\")\n",
    "else:\n",
    "    print(cadena)"
   ]
  },
  {
   "cell_type": "code",
   "execution_count": null,
   "id": "3b89b578",
   "metadata": {},
   "outputs": [],
   "source": [
    "#8) Escribir un programa que solicite al usuario que ingrese su nombre y el número 1, 2 o 3 dependiendo de la opción que desee\n",
    "\n",
    "# Solicitar al usuario su nombre\n",
    "nombre = input(\"Ingrese su nombre: \")\n",
    "\n",
    "# Mostrar el menu con las opciones\n",
    "print(\"\\n1. Si quiere su nombre en mayúsculas \\n2. Si quiere su nombre en minúsculas \\n3. Si quiere su nombre con la primera letra en mayuscula\")\n",
    "\n",
    "# Solicitar al usuario la opcion elegida\n",
    "opcion = input(\"\\nIngrese el número de la opcion elegida (1, 2 o 3): \")\n",
    "\n",
    "if opcion == \"1\":\n",
    "    print(nombre.upper())\n",
    "elif opcion == \"2\":\n",
    "    print(nombre.lower())\n",
    "elif opcion == \"3\":\n",
    "    print(nombre.title())\n",
    "else:\n",
    "    print(\"\\nLa opcion elegida no es correcta\")"
   ]
  },
  {
   "cell_type": "code",
   "execution_count": null,
   "id": "58569f5e",
   "metadata": {},
   "outputs": [],
   "source": [
    "#9) Escribir un programa que pida al usuario la magnitud de un terremoto, clasifique la magnitud en una de las categorías según la escala de Richter\n",
    "\n",
    "# Solicitar al usuario la magnitud del terremoto\n",
    "magnitud = int(input(\"Ingrese la magnitud del terremoto: \"))\n",
    "\n",
    "# Clasificar el terremoto según su magnitud\n",
    "if magnitud < 3:\n",
    "    categoria = \"Muy leve (imperceptible)\"\n",
    "elif magnitud >= 3 and magnitud < 4:\n",
    "    categoria = \"Leve (ligerametne imperceptible)\"\n",
    "elif magnitud >= 4 and magnitud < 5:\n",
    "    categoria = \"Moderado (sentido por personas, pero generalmente no causa daños)\"\n",
    "elif magnitud >= 5 and magnitud < 6:\n",
    "    categoria  = \"Fuerte (puede causar daños en estructuras débiles)\"\n",
    "elif magnitud >= 6 and magnitud < 7:\n",
    "    categoria = \"Muy fuerte (puede causar daños significativos)\"\n",
    "else:\n",
    "    categoria = \"Extremo (puede causar graves daños a gran escala)\"\n",
    "\n",
    "#Mostrar resultado\n",
    "\n",
    "print(f\"\\nEl terremoto es de categoria: {categoria}\")"
   ]
  },
  {
   "cell_type": "code",
   "execution_count": null,
   "id": "cdf9e052",
   "metadata": {},
   "outputs": [],
   "source": [
    "#10) Utilizando la información aportada en la siguiente tabla sobre las estaciones del año\n",
    "\n",
    "# Solicitar informacion al usuario\n",
    "\n",
    "hemisferio = input(\"En que hemisferio te encuentras? (Norte o Sur): \").lower()\n",
    "mes = int(input(\"Ingrese el mes (1-12): \"))\n",
    "dia = int(input(\"Ingrese el dia : \"))\n",
    "\n",
    "if (dia > 21 and mes == 12) or (dia <= 20 and mes == 3):\n",
    "    if hemisferio == \"norte\":\n",
    "        estacion = \"Estas en Invierno\"\n",
    "    elif hemisferio == \"sur\":\n",
    "        estacion = \"Estas en Verano\"\n",
    "elif (dia > 21 and mes == 3) or (dia <= 20 and mes == 6):\n",
    "    if hemisferio == \"norte\":\n",
    "        estacion = \"Estas en Primavera\"\n",
    "    elif hemisferio == \"sur\":\n",
    "        estacion = \"Estas en Otoño\"\n",
    "elif (dia > 21 and mes == 6) or (dia <= 20 and mes == 9):\n",
    "    if hemisferio == \"norte\":\n",
    "        estacion = \"Estas en Verano\"\n",
    "    elif hemisferio == \"sur\":\n",
    "        estacion = \"EStas en Invierno\"       \n",
    "elif (dia > 21 and mes == 9) or (dia <= 20 and mes == 12):\n",
    "    if hemisferio == \"norte\":\n",
    "        estacion = \"Estas en Otoño\"\n",
    "    elif hemisferio == \"sur\":\n",
    "        estacion = \"Estas en Primavera\"\n",
    "else:\n",
    "    estacion = \"Fechas no validas\"\n",
    "    \n",
    "# Mostar resultado\n",
    "print(estacion)"
   ]
  }
 ],
 "metadata": {
  "kernelspec": {
   "display_name": "Python 3",
   "language": "python",
   "name": "python3"
  },
  "language_info": {
   "codemirror_mode": {
    "name": "ipython",
    "version": 3
   },
   "file_extension": ".py",
   "mimetype": "text/x-python",
   "name": "python",
   "nbconvert_exporter": "python",
   "pygments_lexer": "ipython3",
   "version": "3.13.2"
  }
 },
 "nbformat": 4,
 "nbformat_minor": 5
}
