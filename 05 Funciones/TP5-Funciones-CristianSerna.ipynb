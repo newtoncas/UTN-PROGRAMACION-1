{
 "cells": [
  {
   "cell_type": "code",
   "execution_count": null,
   "id": "a09d81c9",
   "metadata": {},
   "outputs": [
    {
     "name": "stdout",
     "output_type": "stream",
     "text": [
      "Hola mundo!\n"
     ]
    }
   ],
   "source": [
    "#1. función llamada imprimir_hola_mundo que imprima por pantalla el mensaje: “Hola Mundo!”\n",
    "\n",
    "def imprimir_hola_mundo():      #Se define la función\n",
    "    print(\"Hola mundo!\")\n",
    "\n",
    "#P rograma Principal     \n",
    "imprimir_hola_mundo()           #Se llama la función\n"
   ]
  },
  {
   "cell_type": "code",
   "execution_count": null,
   "id": "280592d6",
   "metadata": {},
   "outputs": [
    {
     "name": "stdout",
     "output_type": "stream",
     "text": [
      "Hola cris!\n"
     ]
    }
   ],
   "source": [
    "#2.función llamada saludar_usuario(nombre) que reciba como parámetro un nombre y devuelva un saludo personalizado.\n",
    "\n",
    "def saludar_usuario(nom):               #Se define la función\n",
    "    print(f\"Hola {nom}!\")\n",
    "\n",
    "# Programa Principal     \n",
    "nombre = input(\"Ingresa tu nombre: \")   #Se solicita datos al usuario\n",
    "\n",
    "saludar_usuario(nombre)                 #Se llama a la función pasando el parametro\n"
   ]
  },
  {
   "cell_type": "code",
   "execution_count": null,
   "id": "3fa37af3",
   "metadata": {},
   "outputs": [
    {
     "name": "stdout",
     "output_type": "stream",
     "text": [
      "Soy crisito serna, tengo 35 años y vivo en reus\n"
     ]
    }
   ],
   "source": [
    "#3. función llamada informacion_personal(nombre, apellido, edad, residencia) que reciba cuatro parámetros e imprima: “Soy\n",
    "#[nombre] [apellido], tengo [edad] años y vivo en [residencia]”\n",
    "\n",
    "def informacion_personal (nom, apellido, edad, res):                    #Se define la función\n",
    "    print(f\"Soy {nom} {apellido}, tengo {edad} años y vivo en {res}.\")\n",
    "\n",
    "# Programa Principal \n",
    "nombre = input(\"Por favor, ingrese su nombre: \")                        #Se solicita datos al usuario\n",
    "apellido = input(\"Por favor, ingrese su apellido: \")\n",
    "edad = int(input(\"Por favor, ingrese su edad: \"))\n",
    "residencia = input(\"Por favor, ingrese su lugar de residencia: \")\n",
    "\n",
    "informacion_personal(nombre,apellido,edad,residencia)                   #Se llama a la función pasando el parametro"
   ]
  },
  {
   "cell_type": "code",
   "execution_count": null,
   "id": "9edee6e2",
   "metadata": {},
   "outputs": [
    {
     "name": "stdout",
     "output_type": "stream",
     "text": [
      "El área del círculo es de 78.54 y un perímetro es de 31.42\n"
     ]
    }
   ],
   "source": [
    "#4.dos funciones: calcular_area_circulo(radio) que reciba el radio como parámetro y devuelva el área del círculo. calcular_perimetro_\n",
    "#circulo(radio) que reciba el radio como parámetro y devuelva el perímetro del círculo. \n",
    "\n",
    "import math #Se importa la libreria math donde esta la función math.pi para abstraer el valor de PI\n",
    "\n",
    "def calcular_area_circulo(radio):                   #Se define la función \n",
    "    area = round ((math.pi * (radio ** 2)),2 ) \n",
    "    return area\n",
    "\n",
    "def calcular_perimetro_circulo(radio):              #Se define la función \n",
    "    perimetro = round((2 * math.pi * radio), 2)\n",
    "    return perimetro\n",
    "\n",
    "# Programa Principal \n",
    "r = float(input(\"Por favor, ingrese el radio del círculo: \"))   #Se solicita datos al usuario\n",
    "\n",
    "area = calcular_area_circulo(r)                                 #Se llama a la función pasando el parametro\n",
    "perimetro = calcular_perimetro_circulo(r)                       \n",
    "\n",
    "print(f\"El área del círculo es de {area} y un perímetro es de {perimetro}\")     #Se muestra por pantalla el resultado"
   ]
  },
  {
   "cell_type": "code",
   "execution_count": null,
   "id": "c2c59a80",
   "metadata": {},
   "outputs": [
    {
     "name": "stdout",
     "output_type": "stream",
     "text": [
      "\n",
      " El equivalente a 3860 segundos son 1.07 horas.\n"
     ]
    }
   ],
   "source": [
    "#5.función llamada segundos_a_horas(segundos) que reciba una cantidad de segundos como parámetro y devuelva la cantidad de horas correspondientes.\n",
    "\n",
    "def segundos_a_horas(segundos):             #Se define la función\n",
    "    horas = round(segundos /3600, 2)\n",
    "    return horas\n",
    "\n",
    "# Programa Principal \n",
    "seg = int(input(\"Por favor, ingrese la cantidad de segundos (>0): \"))   #Se solicita datos al usuario\n",
    "horas = segundos_a_horas(seg)                                           #Se llama a la función pasando el parametro\n",
    "\n",
    "print(f\"\\n El equivalente a {seg} segundos son {horas} horas.\")         #Se muestra por pantalla el resultado\n"
   ]
  },
  {
   "cell_type": "code",
   "execution_count": null,
   "id": "25fc3d2c",
   "metadata": {},
   "outputs": [],
   "source": [
    "#6.función llamada tabla_multiplicar(numero) que reciba un número como parámetro y imprima la tabla de multiplicar de ese\n",
    "#número del 1 al 10. Pedir al usuario el número y llamar a la función. \n",
    "\n",
    "def tabla_multiplicar(num):                                 #Se define la función\n",
    "    print(f\"\\nTABLA DE MULTIPLICAR DEL NÚMERO {num}\\n\")\n",
    "    for i in range (1, 11):\n",
    "        resul = num * i\n",
    "        print (f\"{num} x {i} = {resul}\")\n",
    "\n",
    "# Programa Principal \n",
    "n = int(input(\"Por favor, ingrese un número entero: \"))     #Se solicita datos al usuario\n",
    "\n",
    "tabla_multiplicar(n)                                        #Se llama a la función pasando el parametro"
   ]
  },
  {
   "cell_type": "code",
   "execution_count": null,
   "id": "9d577005",
   "metadata": {},
   "outputs": [
    {
     "name": "stdout",
     "output_type": "stream",
     "text": [
      "\n",
      "OPERACIONES\n",
      "\n",
      "Suma: 12.0\n",
      "Resta: -4.0\n",
      "Multiplicación: 32.0\n",
      "División: 0.5\n"
     ]
    }
   ],
   "source": [
    "#7.función llamada operaciones_basicas(a, b) que reciba dos números como parámetros y devuelva una tupla con el resultado\n",
    "#de sumarlos, restarlos, multiplicarlos y dividirlos \n",
    "\n",
    "def operaciones_basicas(a,b):           #Se define la función            \n",
    "    suma = a + b\n",
    "    resta = a - b\n",
    "    multi = a * b\n",
    "    div = round(a / b, 2)\n",
    "    return (suma,resta,multi,div)\n",
    "    \n",
    "# Programa Principal \n",
    "num1 = float(input(\"Por favor, ingrese el primero número: \"))                   #Se solicita datos al usuario\n",
    "num2 = float(input(\"Por favor, ingrese el segundo número que no sea 0: \"))\n",
    "\n",
    "while num2 == 0:                                                                #Bucle por si el usuario ingresa 0, se le vuelva a pedir ingresar otro numero distinto\n",
    "    print(\"Error! El segundo número fué 0\")\n",
    "    num2 = float(input(\"Por favor, ingrese el segundo número que no sea 0: \"))  #Se solicita de nuevo datos al usuario\n",
    "    \n",
    "suma , resta,multi,div = operaciones_basicas(num1,num2)                         #Se llama a la función pasando el parametro\n",
    "\n",
    "print(f\"\\nOPERACIONES\\n\\nSuma: {suma}\\nResta: {resta}\\nMultiplicación: {multi}\\nDivisión: {div:.1f}\")   #Se muestra por pantalla el resultado\n"
   ]
  },
  {
   "cell_type": "code",
   "execution_count": null,
   "id": "db8f0b80",
   "metadata": {},
   "outputs": [
    {
     "name": "stdout",
     "output_type": "stream",
     "text": [
      "\n",
      "Su índice de masa corporal (IMC) es: 27.73\n"
     ]
    }
   ],
   "source": [
    "#8.función llamada calcular_imc(peso, altura) que reciba el peso en kilogramos y la altura en metros, y devuelva el índice de masa corporal (IMC) \n",
    "\n",
    "def calcular_imc(peso, altura):                                             #Se define la función\n",
    "    imc = round(peso/(altura ** 2), 2)\n",
    "    return imc\n",
    "\n",
    "# Programa Principal    \n",
    "peso = float(input(\"Por favor, ingresa tu peso en Kilogramos: \"))           #Se solicita datos al usuario\n",
    "\n",
    "while peso <=0:                                                             #Bucle por si el usuario ingresa 0, se le vuelva a pedir ingresar otro numero distinto\n",
    "    peso = float(input(\"Por favor, ingresa tu peso distinto de 0: \"))       #Se solicita de nuevo datos al usuario\n",
    "    \n",
    "altura = float(input(\"Por favor, ingresa tu altura en metros: \"))           #Se solicita datos al usuario\n",
    "\n",
    "while altura <=0:                                                           #Bucle por si el usuario ingresa 0, se le vuelva a pedir ingresar otro numero distinto\n",
    "    altura = float(input(\"Por favor, ingresa tu altura distinta de 0: \"))   #Se solicita de nuevo datos al usuario\n",
    "\n",
    "imc = calcular_imc(peso,altura)                                             #Se llama a la función pasando el parametro\n",
    "print(f\"\\nSu índice de masa corporal (IMC) es: {imc}\")                      #Se muestra por pantalla el resultado\n"
   ]
  },
  {
   "cell_type": "code",
   "execution_count": null,
   "id": "19e6d15b",
   "metadata": {},
   "outputs": [
    {
     "name": "stdout",
     "output_type": "stream",
     "text": [
      "\n",
      "* 23.0°C grados Celsius equivalen a 73.4°F grados Fahrenheit\n"
     ]
    }
   ],
   "source": [
    "#9.función llamada celsius_a_fahrenheit(celsius) que reciba una temperatura en grados Celsius y devuelva su equivalente en\n",
    "#Fahrenheit. \n",
    "\n",
    "def celsius_a_fahrenheit(celsius):                                                      #Se define la función\n",
    "    fahr = round((9/5) * celsius + 32, 2)\n",
    "    return fahr\n",
    "\n",
    "# Programa Principal \n",
    "cel = float(input(\"Por favor, ingrese una temperatura en °C: \"))                        #Se solicita datos al usuario\n",
    "fahrenheit = celsius_a_fahrenheit(cel)                                                  #Se llama a la función pasando el parametro\n",
    "\n",
    "print(f\"\\n* {cel:.1f}°C grados Celsius equivalen a {fahrenheit}°F grados Fahrenheit\")   #Se muestra por pantalla el resultado"
   ]
  },
  {
   "cell_type": "code",
   "execution_count": null,
   "id": "5026832e",
   "metadata": {},
   "outputs": [
    {
     "name": "stdout",
     "output_type": "stream",
     "text": [
      "\n",
      "El promedio es: 8.7\n"
     ]
    }
   ],
   "source": [
    "#10. función llamada calcular_promedio(a, b, c) que reciba tres números como parámetros y devuelva el promedio de ellos.\n",
    "\n",
    "def calcular_promedio(a, b, c):                                 #Se define la función\n",
    "    prom = round((a + b + c) /3, 2)\n",
    "    return prom\n",
    "\n",
    "# Programa Principal \n",
    "num1 = float(input(\"Por favor, ingrese el primer número: \"))    #Se solicita datos al usuario\n",
    "num2 = float(input(\"Por favor, ingrese el segundo número: \"))\n",
    "num3 = float(input(\"Por favor, ingrese el tercer número: \"))\n",
    "\n",
    "promedio = calcular_promedio(num1,num2,num3)                        #Se llama a la función pasando los parametros\n",
    "print(f\"\\nEl promedio de los números ingresados es: {promedio}\")    #Se muestra por pantalla el resultado\n",
    "\n"
   ]
  }
 ],
 "metadata": {
  "kernelspec": {
   "display_name": "Python 3",
   "language": "python",
   "name": "python3"
  },
  "language_info": {
   "codemirror_mode": {
    "name": "ipython",
    "version": 3
   },
   "file_extension": ".py",
   "mimetype": "text/x-python",
   "name": "python",
   "nbconvert_exporter": "python",
   "pygments_lexer": "ipython3",
   "version": "3.13.2"
  }
 },
 "nbformat": 4,
 "nbformat_minor": 5
}
