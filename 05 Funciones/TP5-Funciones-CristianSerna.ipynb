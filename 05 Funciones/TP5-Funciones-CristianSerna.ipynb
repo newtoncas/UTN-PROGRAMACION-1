{
 "cells": [
  {
   "cell_type": "code",
   "execution_count": null,
   "id": "a09d81c9",
   "metadata": {},
   "outputs": [
    {
     "name": "stdout",
     "output_type": "stream",
     "text": [
      "Hola mundo!\n"
     ]
    }
   ],
   "source": [
    "#1. función llamada imprimir_hola_mundo que imprima por pantalla el mensaje: “Hola Mundo!”\n",
    "\n",
    "def imprimir_hola_mundo():\n",
    "    print(\"Hola mundo!\")\n",
    "\n",
    "#Programa Principal     \n",
    "imprimir_hola_mundo()\n"
   ]
  },
  {
   "cell_type": "code",
   "execution_count": null,
   "id": "280592d6",
   "metadata": {},
   "outputs": [
    {
     "name": "stdout",
     "output_type": "stream",
     "text": [
      "Hola cris!\n"
     ]
    }
   ],
   "source": [
    "#2.función llamada saludar_usuario(nombre) que reciba como parámetro un nombre y devuelva un saludo personalizado.\n",
    "#Por ejemplo, si se llama con saludar_usuario(\"Marcos\"), deberá devolver: “Hola Marcos!”. \n",
    "\n",
    "def saludar_usuario(nom):\n",
    "    print(f\"Hola {nom}!\")\n",
    "\n",
    "#Programa Principal     \n",
    "nombre = input(\"Ingresa tu nombre: \")\n",
    "\n",
    "saludar_usuario(nombre)\n"
   ]
  },
  {
   "cell_type": "code",
   "execution_count": null,
   "id": "3fa37af3",
   "metadata": {},
   "outputs": [
    {
     "name": "stdout",
     "output_type": "stream",
     "text": [
      "Soy crisito serna, tengo 35 años y vivo en reus\n"
     ]
    }
   ],
   "source": [
    "#3. función llamada informacion_personal(nombre, apellido, edad, residencia) que reciba cuatro parámetros e imprima: “Soy\n",
    "#[nombre] [apellido], tengo [edad] años y vivo en [residencia]”\n",
    "\n",
    "def informacion_personal (nom, apellido, edad, res):\n",
    "    print(f\"Soy {nom} {apellido}, tengo {edad} años y vivo en {res}.\")\n",
    "\n",
    "#Programa Principal \n",
    "nombre = input(\"Por favor, ingrese su nombre: \")\n",
    "apellido = input(\"Por favor, ingrese su apellido: \")\n",
    "edad = int(input(\"Por favor, ingrese su edad: \"))\n",
    "residencia = input(\"Por favor, ingrese su lugar de residencia: \")\n",
    "\n",
    "informacion_personal(nombre,apellido,edad,residencia)"
   ]
  },
  {
   "cell_type": "code",
   "execution_count": 73,
   "id": "9edee6e2",
   "metadata": {},
   "outputs": [
    {
     "name": "stdout",
     "output_type": "stream",
     "text": [
      "El área del círculo es de 78.54 y un perímetro es de 31.42\n"
     ]
    }
   ],
   "source": [
    "#4.dos funciones: calcular_area_circulo(radio) que reciba el radio como parámetro y devuelva el área del círculo. calcular_perimetro_\n",
    "#circulo(radio) que reciba el radio como parámetro y devuelva el perímetro del círculo. Solicitar el radio al usuario y llamar ambas\n",
    "#funciones para mostrar los resultados. \n",
    "import math\n",
    "\n",
    "def calcular_area_circulo(radio):\n",
    "    area = round ((math.pi * (radio ** 2)),2 )\n",
    "    return area\n",
    "\n",
    "def calcular_perimetro_circulo(radio):\n",
    "    perimetro = round((2 * math.pi * radio), 2)\n",
    "    return perimetro\n",
    "\n",
    "#Programa Principal \n",
    "r = float(input(\"Por favor, ingrese el radio del círculo: \"))\n",
    "\n",
    "area = calcular_area_circulo(r)\n",
    "perimetro = calcular_perimetro_circulo(r)\n",
    "\n",
    "print(f\"El área del círculo es de {area} y un perímetro es de {perimetro}\")"
   ]
  },
  {
   "cell_type": "code",
   "execution_count": null,
   "id": "c2c59a80",
   "metadata": {},
   "outputs": [
    {
     "name": "stdout",
     "output_type": "stream",
     "text": [
      "\n",
      " El equivalente a 3860 segundos son 1.07 horas.\n"
     ]
    }
   ],
   "source": [
    "#5.función llamada segundos_a_horas(segundos) que reciba una cantidad de segundos como parámetro y devuelva la cantidad de horas correspondientes.\n",
    "\n",
    "def segundos_a_horas(segundos):\n",
    "    horas = round(segundos /3600, 2)\n",
    "    return horas\n",
    "\n",
    "#Programa Principal \n",
    "seg = int(input(\"Por favor, ingrese la cantidad de segundos (>0): \"))\n",
    "horas = segundos_a_horas(seg)\n",
    "\n",
    "print(f\"\\n El equivalente a {seg} segundos son {horas} horas.\")\n"
   ]
  },
  {
   "cell_type": "code",
   "execution_count": 65,
   "id": "25fc3d2c",
   "metadata": {},
   "outputs": [
    {
     "name": "stdout",
     "output_type": "stream",
     "text": [
      "\n",
      "TABLA DE MULTIPLICAR DEL NÚMERO 5\n",
      "\n",
      "5 x 1 = 5\n",
      "5 x 2 = 10\n",
      "5 x 3 = 15\n",
      "5 x 4 = 20\n",
      "5 x 5 = 25\n",
      "5 x 6 = 30\n",
      "5 x 7 = 35\n",
      "5 x 8 = 40\n",
      "5 x 9 = 45\n",
      "5 x 10 = 50\n"
     ]
    }
   ],
   "source": [
    "#6.función llamada tabla_multiplicar(numero) que reciba un número como parámetro y imprima la tabla de multiplicar de ese\n",
    "#número del 1 al 10. Pedir al usuario el número y llamar a la función. \n",
    "\n",
    "def tabla_multiplicar(num):\n",
    "    print(f\"\\nTABLA DE MULTIPLICAR DEL NÚMERO {num}\\n\")\n",
    "    for i in range (1, 11):\n",
    "        resul = num * i\n",
    "        print (f\"{num} x {i} = {resul}\")\n",
    "\n",
    "#Programa Principal \n",
    "n = int(input(\"Por favor, ingrese un número entero: \"))\n",
    "\n",
    "tabla_multiplicar(n)"
   ]
  },
  {
   "cell_type": "code",
   "execution_count": 64,
   "id": "9d577005",
   "metadata": {},
   "outputs": [
    {
     "name": "stdout",
     "output_type": "stream",
     "text": [
      "\n",
      "OPERACIONES\n",
      "\n",
      "Suma: 12.0\n",
      "Resta: -4.0\n",
      "Multiplicación: 32.0\n",
      "División: 0.5\n"
     ]
    }
   ],
   "source": [
    "#7.función llamada operaciones_basicas(a, b) que reciba dos números como parámetros y devuelva una tupla con el resultado\n",
    "#de sumarlos, restarlos, multiplicarlos y dividirlos \n",
    "\n",
    "def operaciones_basicas(a,b):\n",
    "    suma = a + b\n",
    "    resta = a - b\n",
    "    multi = a * b\n",
    "    div = round(a / b, 2)\n",
    "    return (suma,resta,multi,div)\n",
    "    \n",
    "#Programa Principal \n",
    "num1 = float(input(\"Por favor, ingrese el primero número: \"))\n",
    "num2 = float(input(\"Por favor, ingrese el segundo número que no sea 0: \"))\n",
    "\n",
    "while num2 == 0:\n",
    "    print(\"Error! El segundo número fué 0\")\n",
    "    num2 = float(input(\"Por favor, ingrese el segundo número que no sea 0: \"))\n",
    "    \n",
    "suma , resta,multi,div = operaciones_basicas(num1,num2)\n",
    "\n",
    "print(f\"\\nOPERACIONES\\n\\nSuma: {suma}\\nResta: {resta}\\nMultiplicación: {multi}\\nDivisión: {div:.1f}\")\n"
   ]
  },
  {
   "cell_type": "code",
   "execution_count": 63,
   "id": "db8f0b80",
   "metadata": {},
   "outputs": [
    {
     "name": "stdout",
     "output_type": "stream",
     "text": [
      "\n",
      "Su índice de masa corporal (IMC) es: 27.73\n"
     ]
    }
   ],
   "source": [
    "#8.función llamada calcular_imc(peso, altura) que reciba el peso en kilogramos y la altura en metros, y devuelva el índice de masa corporal (IMC) \n",
    "\n",
    "def calcular_imc(peso, altura):\n",
    "    imc = round(peso/(altura ** 2), 2)\n",
    "    return imc\n",
    "\n",
    "#Programa Principal    \n",
    "peso = float(input(\"Por favor, ingresa tu peso en Kilogramos: \"))  \n",
    "while peso <=0:\n",
    "    peso = float(input(\"Por favor, ingresa tu peso distinto de 0: \"))\n",
    "    \n",
    "altura = float(input(\"Por favor, ingresa tu altura en metros: \"))\n",
    "while altura <=0:\n",
    "    altura = float(input(\"Por favor, ingresa tu altura distinta de 0: \"))\n",
    "\n",
    "imc = calcular_imc(peso,altura)\n",
    "print(f\"\\nSu índice de masa corporal (IMC) es: {imc}\")\n"
   ]
  },
  {
   "cell_type": "code",
   "execution_count": 62,
   "id": "19e6d15b",
   "metadata": {},
   "outputs": [
    {
     "name": "stdout",
     "output_type": "stream",
     "text": [
      "\n",
      "* 23.0°C grados Celsius equivalen a 73.4°F grados Fahrenheit\n"
     ]
    }
   ],
   "source": [
    "#9.función llamada celsius_a_fahrenheit(celsius) que reciba una temperatura en grados Celsius y devuelva su equivalente en\n",
    "#Fahrenheit. Pedir al usuario la temperatura en Celsius y mostrar el resultado usando la función. \n",
    "\n",
    "def celsius_a_fahrenheit(celsius):\n",
    "    fahr = round((9/5) * celsius + 32, 2)\n",
    "    return fahr\n",
    "\n",
    "#Programa Principal \n",
    "cel = float(input(\"Por favor, ingrese una temperatura en °C: \"))\n",
    "fahrenheit = celsius_a_fahrenheit(cel)\n",
    "\n",
    "print(f\"\\n* {cel:.1f}°C grados Celsius equivalen a {fahrenheit}°F grados Fahrenheit\")"
   ]
  },
  {
   "cell_type": "code",
   "execution_count": null,
   "id": "5026832e",
   "metadata": {},
   "outputs": [
    {
     "name": "stdout",
     "output_type": "stream",
     "text": [
      "\n",
      "El promedio es: 8.7\n"
     ]
    }
   ],
   "source": [
    "#10. función llamada calcular_promedio(a, b, c) que reciba tres números como parámetros y devuelva el promedio de ellos.\n",
    "\n",
    "def calcular_promedio(a, b, c):\n",
    "    prom = round((a + b + c) /3, 2)\n",
    "    return prom\n",
    "\n",
    "#Programa Principal \n",
    "num1 = float(input(\"Por favor, ingrese el primer número: \"))\n",
    "num2 = float(input(\"Por favor, ingrese el segundo número: \"))\n",
    "num3 = float(input(\"Por favor, ingrese el tercer número: \"))\n",
    "\n",
    "promedio = calcular_promedio(num1,num2,num3)\n",
    "print(f\"\\nEl promedio de los números ingresados es: {promedio}\")\n",
    "\n"
   ]
  }
 ],
 "metadata": {
  "kernelspec": {
   "display_name": "Python 3",
   "language": "python",
   "name": "python3"
  },
  "language_info": {
   "codemirror_mode": {
    "name": "ipython",
    "version": 3
   },
   "file_extension": ".py",
   "mimetype": "text/x-python",
   "name": "python",
   "nbconvert_exporter": "python",
   "pygments_lexer": "ipython3",
   "version": "3.13.2"
  }
 },
 "nbformat": 4,
 "nbformat_minor": 5
}
