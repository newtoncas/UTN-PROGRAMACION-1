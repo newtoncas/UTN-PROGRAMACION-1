{
 "cells": [
  {
   "cell_type": "code",
   "execution_count": null,
   "id": "faad4801",
   "metadata": {},
   "outputs": [],
   "source": [
    "#1)Programa que imprima en pantalla todos los números enteros desde 0 hasta 100. (incluyendo ambos extremos), en orden creciente, mostrando un número por línea.\n",
    "\n",
    "for i in range (101):       #bucle que itera de 1 a 100 y muestra por pantalla cada iteración\n",
    "    print(i)                #SE MUESTRA EL RESULTADO POR PANTALLA\n",
    "    \n",
    "    "
   ]
  },
  {
   "cell_type": "code",
   "execution_count": null,
   "id": "30d2f095",
   "metadata": {},
   "outputs": [],
   "source": [
    "#2)Programa que solicite al usuario un número entero y determine la cantidad de dígitos que contiene.   \n",
    "\n",
    "num = int(input(\"Ingrese un número entero: \"))          #Se pide al usuario un numero entero\n",
    "\n",
    "if num < 0:                                             #Si el numero es negativo se pasa a positivo\n",
    "    num2 = -num                \n",
    "    digitos = len(str(num2))                            #Con la funcion \"str\"se convierte la variable num a cadena. Con la funcion \"len\" se calcula la cantidad de digitos de la cadena\n",
    "    print(f\"El numero {num} tiene: {digitos} digitos\")  #SE MUESTRA POR PANTALLA SI EL RESULTADO ES NEGATIVO\n",
    "else:                \n",
    "    digitos = len(str(num))                        \n",
    "    print(f\"El numero {num} tiene: {digitos} digitos\")  #SE MUESTRA POR PANTALLA SI EL RESULTADO ES POSITIVO\n",
    "    \n"
   ]
  },
  {
   "cell_type": "code",
   "execution_count": null,
   "id": "5d33631c",
   "metadata": {},
   "outputs": [],
   "source": [
    "#3)Programa que sume todos los números enteros comprendidos entre dos valores dados por el usuario, excluyendo esos dos valores.\n",
    "\n",
    "num1 = int(input(\"Ingrese el primer número: \"))  #Se pide al usuario un numero entero\n",
    "num2 = int(input(\"Ingrese el segundo número: \")) #Se pide al usuario otro numero entero\n",
    "total = 0                                        #Se declara la variable total con un valor incial 0\n",
    "i = num1                                         #Se declara contador y se inicializa con el valor del primer numero\n",
    "\n",
    "if num1 < num2:\n",
    "    \n",
    "    while i < num2 -1:\n",
    "        i = i + 1\n",
    "        total = total + i\n",
    "else:\n",
    "    i = num2\n",
    "    while i < num1 -1:\n",
    "        i = i + 1\n",
    "        total = total + i\n",
    "\n",
    "print(f\"La suma de los valores comprendidos entre {num1} y {num2} es: {total}\")  #SE MUESTRAN LOS RESULTADOS POR PANTALLA\n"
   ]
  },
  {
   "cell_type": "code",
   "execution_count": null,
   "id": "e74a141d",
   "metadata": {},
   "outputs": [],
   "source": [
    "#4)Programa que permita al usuario ingresar números enteros y los sume en secuencia. El programa debe detenerse y mostrar el total acumulado cuando el usuario ingrese un 0.\n",
    "\n",
    "num = int(input(\"Ingrese un número (distino de 0): \"))              #Se pide al usuario un numero entero\n",
    "\n",
    "if num != 0:                                                        #Se inicia las operaciones si el número es diferente a 0\n",
    "    total = num\n",
    "    while num != 0:                                                 #bucle que itera hasta que el usuario ingrese \"0\"\n",
    "        num = int(input(\"Ingrese un número (distino de 0): \"))\n",
    "        total = total + num                                         #Acumulador de todos los numero ingresados por el usuario\n",
    "    print(f\"\\nEl valor total acumulado es: {total}\")                #SE MUESTRA POR PANTALLA EL RESULTADO TOTAL\n",
    "else:\n",
    "    print(\"No se ingresaron valores para acumular\")\n",
    "    "
   ]
  },
  {
   "cell_type": "code",
   "execution_count": null,
   "id": "adf013b9",
   "metadata": {},
   "outputs": [],
   "source": [
    "#5)Crea un juego en el que el usuario deba adivinar un número aleatorio entre 0 y 9. Al final, el programa debe mostrar cuántos intentos fueron necesarios para acertar el número.\n",
    "import random\n",
    "\n",
    "aleatorio = random.randint(0, 9)                                       #Se generan un numero aleatorio del 0 al 9\n",
    "intentos = 1\n",
    "\n",
    "num = int(input(\"Ingrese el posible número (0 - 9): \"))                #Se solicita al usuario un numero para compararlo con el numero a adivinar                                                                                  #Se inicializa el contador\n",
    "\n",
    "while num != aleatorio:                                                 #Mientras no coincida el numero aleatorio con el ingresado por el usuario se iterará \n",
    "      num = int(input(\"Ingrese el posible numero (0 - 9): \"))\n",
    "      intentos = intentos + 1\n",
    "\n",
    "print(f\"\\n¿Felicidades! el número era {num} y te costó {intentos} intentos\")    #SE MUESTRAN RESULTADOS POR PANTALLA\n"
   ]
  },
  {
   "cell_type": "code",
   "execution_count": null,
   "id": "d034df23",
   "metadata": {},
   "outputs": [],
   "source": [
    "#6)Programa que imprima en pantalla todos los números pares comprendidos entre 0 y 100, en orden decreciente.\n",
    "\n",
    "for i in range (100,-1,-1):  #Iteracion desde 100 hasta 0 decrementandose el valor inicial en 1 con cada iteración    \n",
    "    if i%2 == 0:            #Se verifica si el número es par\n",
    "        print(i)            #SE MUESTAN POR PANTALLA SI EL NÚMERO ES PAR\n"
   ]
  },
  {
   "cell_type": "code",
   "execution_count": null,
   "id": "8d878e9d",
   "metadata": {},
   "outputs": [],
   "source": [
    "#7)Programa que calcule la suma de todos los números comprendidos entre 0 y un número entero positivo indicado por el usuario.\n",
    "\n",
    "num = int(input(\"Ingrese un número: \"))                                     #Se solicita un número al usuario\n",
    "\n",
    "if num > 0:\n",
    "    i = 0                                                                       #Se declara el contador con valor 0\n",
    "    total = 0                                                                   #Se declara el acumulador con valor 0\n",
    "\n",
    "    while i < num:                                                              #Iteracion mientras el contador sea menor que el numero dado por el usuario\n",
    "        i = i +1                                                                #Incremento del contador\n",
    "        total = total + i                                                       #Incremento del acumulador\n",
    "\n",
    "    print(f\"La suma de los números comprendidos entre 0 y {num} es: {total}\")   #SE MUESTRAN RESULTADOS POR PANTALLA\n",
    "else:\n",
    "    print(\"Error: Debe ingresar un número entero positivo mayor que cero.\")"
   ]
  },
  {
   "cell_type": "code",
   "execution_count": null,
   "id": "6f4b5d31",
   "metadata": {},
   "outputs": [],
   "source": [
    "#8)Programa que permita al usuario ingresar 100 números enteros . . .\n",
    "\n",
    "par = 0                                                 #INICIACION DE VARIABLES\n",
    "impar = 0\n",
    "neg = 0\n",
    "pos = 0\n",
    "\n",
    "for i in range (1,101):                                 #Iteracion de 1 a 100\n",
    "    num = int(input(\"Ingrese un número entero: \"))      #Se solicita un número al usuario\n",
    "    \n",
    "    if num%2 == 0:                                      #Se verifica si el número es par\n",
    "        par = par + 1                                   #Incremento a acumulador\n",
    "    else:\n",
    "        impar = impar + 1\n",
    "    \n",
    "    if num > 0:                                         #Se verifica si el número es positivo\n",
    "        pos = pos + 1\n",
    "    elif num < 0:                                       #Se verifica si el número es negativo\n",
    "        neg = neg + 1\n",
    "\n",
    "print(f\"Números pares: {par}\")                          #SE MUESTRAN RESULTADOS POR PANTALLA\n",
    "print(f\"Números impares: {impar}\")\n",
    "print(f\"Números Positivos: {pos}\")\n",
    "print(f\"Números Negativos: {neg}\")\n"
   ]
  },
  {
   "cell_type": "code",
   "execution_count": null,
   "id": "007e6765",
   "metadata": {},
   "outputs": [],
   "source": [
    "#9)Programa que permita al usuario ingresar 100 números enteros y luego calcule la media de esos valores\n",
    "media = 0                                                   #Se declaran variables con valor 0\n",
    "total = 0\n",
    "\n",
    "for i in range (1,101):                                     #bucle que iterará de 1 a 100\n",
    "    num = int(input(\"Ingrese un número entero: \"))          #Se solicita un número al usuario\n",
    "    total = total + num                                     #Acumulador de los números ingresados\n",
    "\n",
    "media = total / 100                                         #Se calcula y se guarda la media\n",
    "    \n",
    "print(f\"La media de los números ingresados es: {media}\")    #SE MUESTRA EL RESULTADO POR PANTALLA\n"
   ]
  },
  {
   "cell_type": "code",
   "execution_count": null,
   "id": "c6931005",
   "metadata": {},
   "outputs": [],
   "source": [
    "#10)Programa que invierta el orden de los dígitos de un número ingresado por el usuario.\n",
    "\n",
    "num = int(input(\"Ingrese un número: \"))             #Se solicita un número al usuario\n",
    "\n",
    "num_invertido = 0                                   #Se declara la variable con valor 0\n",
    "\n",
    "if num < 0:                                         #Se convierte a positivo si el número es negativo\n",
    "    num = -num\n",
    "    \n",
    "while num != 0:                                     #Mientras el número no sea 0 se ejecuta el bucle\n",
    "    digito = num % 10\n",
    "    num_invertido = num_invertido * 10 + digito\n",
    "    num = num // 10\n",
    "    \n",
    "print(f\"Número invertido: {num_invertido}\")         #SE MUESTRA EL RESULTADO POR PANTALLA  \n"
   ]
  }
 ],
 "metadata": {
  "kernelspec": {
   "display_name": "Python 3",
   "language": "python",
   "name": "python3"
  },
  "language_info": {
   "codemirror_mode": {
    "name": "ipython",
    "version": 3
   },
   "file_extension": ".py",
   "mimetype": "text/x-python",
   "name": "python",
   "nbconvert_exporter": "python",
   "pygments_lexer": "ipython3",
   "version": "3.13.2"
  }
 },
 "nbformat": 4,
 "nbformat_minor": 5
}
